{
 "cells": [
  {
   "cell_type": "markdown",
   "id": "43ee19ba-31a2-43cb-8f70-637d88885fcb",
   "metadata": {},
   "source": [
    "10 March 2025 10:10PM"
   ]
  },
  {
   "cell_type": "markdown",
   "id": "6d6bbc7b-8ea3-4d1b-b8b6-65afd665f4da",
   "metadata": {},
   "source": [
    "gitpod link\n",
    "https://freecodecam-boilerplate-v8z1ec4fefj.ws-us118.gitpod.io/"
   ]
  },
  {
   "cell_type": "code",
   "execution_count": 139,
   "id": "6709367f-1024-4f97-9770-2c3d95e27e93",
   "metadata": {},
   "outputs": [],
   "source": [
    "import pandas as pd\n",
    "\n",
    "\n",
    "def calculate_demographic_data(print_data=True):\n",
    "    # Read data from file\n",
    "    df = pd.read_csv('adult.data.csv')\n",
    "\n",
    "    # How many of each race are represented in this dataset? This should be a Pandas series with race names as the index labels.\n",
    "    race_count = df.groupby(['race'])['fnlwgt'].count()\n",
    "    race_count\n",
    "\n",
    "    # What is the average age of men?\n",
    "    average_age_men = df.groupby(['sex'])['age'].mean()['Male']\n",
    "    average_age_men = round(average_age_men, 1) # one way to round a floating number to precision 1 digit\n",
    "\n",
    "    # What is the percentage of people who have a Bachelor's degree?\n",
    "    education_count = df.groupby(['education'])['age'].count()\n",
    "    percentage_bachelors = education_count['Bachelors'] / education_count.sum() * 100\n",
    "    percentage_bachelors = float(format(percentage_bachelors, '.1f')) # 2nd way to round a floating nuber to precision 1 digit\n",
    "\n",
    "    # What percentage of people with advanced education (`Bachelors`, `Masters`, or `Doctorate`) make more than 50K?\n",
    "    percentage_adv_education = education_count[['Bachelors','Doctorate','Masters']].sum() / education_count.sum() * 100\n",
    "    percentage_adv_education = float(f\"{percentage_adv_education:.1f}\") # 3rd way to round a floating number\n",
    "\n",
    "\n",
    "    # What percentage of people without advanced education make more than 50K?\n",
    "    \n",
    "    \n",
    "\n",
    "    # with and without `Bachelors`, `Masters`, or `Doctorate`\n",
    "    df_higher_education = df[df[\"education\"].isin([\"Bachelors\", \"Masters\", \"Doctorate\"])] #adv_edu = df[(df[\"education\"] == \"Bachelors\") | (df[\"education\"] == \"Masters\") | (df[\"education\"] == \"Doctorate\")]\n",
    "    df_lower_education = df[~df[\"education\"].isin([\"Bachelors\", \"Masters\", \"Doctorate\"])]\n",
    "    higher_education = df_higher_education['salary'].count()\n",
    "    lower_education = df_lower_education['salary'].count()\n",
    "\n",
    "    #percentage\n",
    "    higher_education_per = df_higher_education['salary'].count() / df['salary'].count() * 100\n",
    "    #percentage\n",
    "    lower_education_per = df_lower_education['salary'].count() / df['salary'].count() * 100\n",
    "\n",
    "    # percentage with salary >50K\n",
    "    higher_education_rich = df_higher_education[df_higher_education['salary'] == '>50K']['salary'].count() / df_higher_education['salary'].count() * 100 #choose any one column to find the count\n",
    "    higher_education_rich = round(higher_education_rich, 1)\n",
    "    lower_education_rich = df_lower_education[df_lower_education['salary'] == '>50K']['salary'].count() / df_lower_education['salary'].count() * 100\n",
    "    lower_education_rich = round(lower_education_rich, 1)\n",
    "\n",
    "    # What is the minimum number of hours a person works per week (hours-per-week feature)?\n",
    "    min_work_hours = df['hours-per-week'].min()\n",
    "\n",
    "    # What percentage of the people who work the minimum number of hours per week have a salary of >50K?\n",
    "    # dataframe\n",
    "    num_min_workers = df.loc[df['hours-per-week'] == min_work_hours]\n",
    "\n",
    "    # rich means work less earn more\n",
    "    rich_percentage = (num_min_workers['salary'] == '>50K').sum() / len(num_min_workers) * 100 # rather than selecting a column and finding its count, we can find the values with satisfies the condition and suming it will give the same and taking a column and finding its count, we can find the len of the dataframe which gives the number of entries\n",
    "    rich_percentage = round(rich_percentage, 1)\n",
    "\n",
    "    # What country has the highest percentage of people that earn >50K?\n",
    "    # not the country having maximum number of (high)earning people but maximum percentage of (high)earning people like litracy rate where 50% literacy means 50 literate and 50 illiterate\n",
    "    highest_earning_country = None\n",
    "    highest_earning_country_percentage = 0.0\n",
    "    for country, data in df.groupby('native-country'):\n",
    "        percentage = (data['salary'] == '>50K').sum() / data['salary'].count()\n",
    "        if highest_earning_country_percentage < percentage:\n",
    "            highest_earning_country_percentage = percentage\n",
    "            highest_earning_country = country\n",
    "    highest_earning_country_percentage = round(100 * highest_earning_country_percentage,1)\n",
    "\n",
    "    # Identify the most popular occupation for those who earn >50K in India.\n",
    "    top_IN_occupation = df[df['native-country'] == 'India'][df['salary'] == '>50K'].groupby('occupation')['age'].count().idxmax()\n",
    "\n",
    "    # DO NOT MODIFY BELOW THIS LINE\n",
    "\n",
    "    if print_data:\n",
    "        print(\"Number of each race:\\n\", race_count) \n",
    "        print(\"Average age of men:\", average_age_men)\n",
    "        print(f\"Percentage with Bachelors degrees: {percentage_bachelors}%\")\n",
    "        print(f\"Percentage with higher education that earn >50K: {higher_education_rich}%\")\n",
    "        print(f\"Percentage without higher education that earn >50K: {lower_education_rich}%\")\n",
    "        print(f\"Min work time: {min_work_hours} hours/week\")\n",
    "        print(f\"Percentage of rich among those who work fewest hours: {rich_percentage}%\")\n",
    "        print(\"Country with highest percentage of rich:\", highest_earning_country)\n",
    "        print(f\"Highest percentage of rich people in country: {highest_earning_country_percentage}%\")\n",
    "        print(\"Top occupations in India:\", top_IN_occupation)\n",
    "\n",
    "    return {\n",
    "        'race_count': race_count,\n",
    "        'average_age_men': average_age_men,\n",
    "        'percentage_bachelors': percentage_bachelors,\n",
    "        'higher_education_rich': higher_education_rich,\n",
    "        'lower_education_rich': lower_education_rich,\n",
    "        'min_work_hours': min_work_hours,\n",
    "        'rich_percentage': rich_percentage,\n",
    "        'highest_earning_country': highest_earning_country,\n",
    "        'highest_earning_country_percentage':\n",
    "        highest_earning_country_percentage,\n",
    "        'top_IN_occupation': top_IN_occupation\n",
    "    }\n"
   ]
  },
  {
   "cell_type": "markdown",
   "id": "61b6199a-0a8e-451d-ab99-aff855dc683f",
   "metadata": {},
   "source": [
    "#### isin\n",
    "\n",
    "The isin() function in Pandas is used to filter a DataFrame by checking if a column's values are present in a given list. It returns a boolean mask that helps in selecting rows where the column value matches any of the specified values."
   ]
  },
  {
   "cell_type": "code",
   "execution_count": 141,
   "id": "3d92014c-1307-4dc7-ba47-af150b556a0a",
   "metadata": {},
   "outputs": [
    {
     "name": "stdout",
     "output_type": "stream",
     "text": [
      "Number of each race:\n",
      " race\n",
      "Amer-Indian-Eskimo      311\n",
      "Asian-Pac-Islander     1039\n",
      "Black                  3124\n",
      "Other                   271\n",
      "White                 27816\n",
      "Name: fnlwgt, dtype: int64\n",
      "Average age of men: 39.4\n",
      "Percentage with Bachelors degrees: 16.4%\n",
      "Percentage with higher education that earn >50K: 46.5%\n",
      "Percentage without higher education that earn >50K: 17.4%\n",
      "Min work time: 1 hours/week\n",
      "Percentage of rich among those who work fewest hours: 10.0%\n",
      "Country with highest percentage of rich: Iran\n",
      "Highest percentage of rich people in country: 41.9%\n",
      "Top occupations in India: Prof-specialty\n"
     ]
    },
    {
     "name": "stderr",
     "output_type": "stream",
     "text": [
      "C:\\Users\\syamp\\AppData\\Local\\Temp\\ipykernel_15088\\2406314437.py:70: UserWarning: Boolean Series key will be reindexed to match DataFrame index.\n",
      "  top_IN_occupation = df[df['native-country'] == 'India'][df['salary'] == '>50K'].groupby('occupation')['age'].count().idxmax()\n"
     ]
    },
    {
     "data": {
      "text/plain": [
       "{'race_count': race\n",
       " Amer-Indian-Eskimo      311\n",
       " Asian-Pac-Islander     1039\n",
       " Black                  3124\n",
       " Other                   271\n",
       " White                 27816\n",
       " Name: fnlwgt, dtype: int64,\n",
       " 'average_age_men': 39.4,\n",
       " 'percentage_bachelors': 16.4,\n",
       " 'higher_education_rich': 46.5,\n",
       " 'lower_education_rich': 17.4,\n",
       " 'min_work_hours': 1,\n",
       " 'rich_percentage': 10.0,\n",
       " 'highest_earning_country': 'Iran',\n",
       " 'highest_earning_country_percentage': 41.9,\n",
       " 'top_IN_occupation': 'Prof-specialty'}"
      ]
     },
     "execution_count": 141,
     "metadata": {},
     "output_type": "execute_result"
    }
   ],
   "source": [
    "calculate_demographic_data()"
   ]
  },
  {
   "cell_type": "markdown",
   "id": "93f57158-2288-4a83-9d31-bda6b9ae6bee",
   "metadata": {},
   "source": [
    "Completed on 12 March 2025 6:50PM"
   ]
  }
 ],
 "metadata": {
  "kernelspec": {
   "display_name": "Python 3 (ipykernel)",
   "language": "python",
   "name": "python3"
  },
  "language_info": {
   "codemirror_mode": {
    "name": "ipython",
    "version": 3
   },
   "file_extension": ".py",
   "mimetype": "text/x-python",
   "name": "python",
   "nbconvert_exporter": "python",
   "pygments_lexer": "ipython3",
   "version": "3.12.7"
  }
 },
 "nbformat": 4,
 "nbformat_minor": 5
}
