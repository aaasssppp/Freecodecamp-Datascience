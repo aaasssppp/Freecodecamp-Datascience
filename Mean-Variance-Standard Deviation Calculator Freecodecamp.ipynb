{
 "cells": [
  {
   "cell_type": "markdown",
   "id": "6b97b874-00d1-49e1-b1eb-465c477a7e1e",
   "metadata": {},
   "source": [
    "10 March 2025 9PM"
   ]
  },
  {
   "cell_type": "markdown",
   "id": "e1da7051-b7b2-4fd2-a814-a827a31a0661",
   "metadata": {},
   "source": [
    "gitpod link\n",
    "https://freecodecam-boilerplate-6341ls3h8bg.ws-us118.gitpod.io/"
   ]
  },
  {
   "cell_type": "code",
   "execution_count": 19,
   "id": "905edde9-4250-44a4-b894-b5a08d0be203",
   "metadata": {},
   "outputs": [
    {
     "data": {
      "text/plain": [
       "{'mean': [[3.0, 4.0, 5.0], [1.0, 4.0, 7.0], 4.0],\n",
       " 'variance': [[6.0, 6.0, 6.0],\n",
       "  [0.6666666666666666, 0.6666666666666666, 0.6666666666666666],\n",
       "  6.666666666666667],\n",
       " 'standard deviation': [[2.449489742783178,\n",
       "   2.449489742783178,\n",
       "   2.449489742783178],\n",
       "  [0.816496580927726, 0.816496580927726, 0.816496580927726],\n",
       "  2.581988897471611],\n",
       " 'max': [[6, 7, 8], [2, 5, 8], 8],\n",
       " 'min': [[0, 1, 2], [0, 3, 6], 0],\n",
       " 'sum': [[9, 12, 15], [3, 12, 21], 36]}"
      ]
     },
     "execution_count": 19,
     "metadata": {},
     "output_type": "execute_result"
    }
   ],
   "source": [
    "import numpy as np\n",
    "\n",
    "def calculate(lst): #10 Mar 2025 8:30PM\n",
    "    if len(lst) != 9:\n",
    "        \"List must contain nine numbers.\"\n",
    "        raise ValueError\n",
    "\n",
    "    arr = np.array(lst)\n",
    "    arr = arr.reshape((3,3))\n",
    "\n",
    "    #mean\n",
    "    mean_axis1 = list(arr.mean(axis = 0))\n",
    "    mean_axis2 = list(arr.mean(axis = 1))\n",
    "    mean_flatten = float(arr.mean())\n",
    "\n",
    "    #variance\n",
    "    var_axis1 = list(arr.var(axis = 0))\n",
    "    var_axis2 = list(arr.var(axis = 1))\n",
    "    var_flatten = float(arr.var())\n",
    "\n",
    "    #std\n",
    "    std_axis1 = list(arr.std(axis = 0))\n",
    "    std_axis2 = list(arr.std(axis = 1))\n",
    "    std_flatten = float(arr.std())\n",
    "\n",
    "    #max\n",
    "    max_axis1 = list(arr.max(axis = 0))\n",
    "    max_axis2 = list(arr.max(axis = 1))\n",
    "    max_flatten = int(arr.max())\n",
    "\n",
    "    #min\n",
    "    min_axis1 = list(arr.min(axis = 0))\n",
    "    min_axis2 = list(arr.min(axis = 1))\n",
    "    min_flatten = int(arr.min())\n",
    "\n",
    "    #sum\n",
    "    sum_axis1 = list(arr.sum(axis = 0))\n",
    "    sum_axis2 = list(arr.sum(axis = 1))\n",
    "    sum_flatten = int(arr.sum())\n",
    "\n",
    "\n",
    "    return {\n",
    "        'mean' : [mean_axis1,mean_axis2,mean_flatten],\n",
    "        'variance' : [var_axis1,var_axis2,var_flatten],\n",
    "        'standard deviation' : [std_axis1,std_axis2,std_flatten],\n",
    "        'max' : [max_axis1,max_axis2,max_flatten],\n",
    "        'min' : [min_axis1,min_axis2,min_flatten],\n",
    "        'sum' : [sum_axis1,sum_axis2,sum_flatten]\n",
    "    }\n",
    "\n",
    "lst = [0,1,2,3,4,5,6,7,8]\n",
    "calculate(lst)"
   ]
  }
 ],
 "metadata": {
  "kernelspec": {
   "display_name": "Python 3 (ipykernel)",
   "language": "python",
   "name": "python3"
  },
  "language_info": {
   "codemirror_mode": {
    "name": "ipython",
    "version": 3
   },
   "file_extension": ".py",
   "mimetype": "text/x-python",
   "name": "python",
   "nbconvert_exporter": "python",
   "pygments_lexer": "ipython3",
   "version": "3.12.7"
  }
 },
 "nbformat": 4,
 "nbformat_minor": 5
}
